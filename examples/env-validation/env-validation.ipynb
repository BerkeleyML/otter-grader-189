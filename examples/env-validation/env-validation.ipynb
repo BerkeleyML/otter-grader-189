{
 "cells": [
  {
   "cell_type": "raw",
   "id": "b6d19367-d518-418d-9f21-dbd13a9a3a0b",
   "metadata": {},
   "source": [
    "# ASSIGNMENT CONFIG\n",
    "generate:\n",
    "    seed: 42\n",
    "files:\n",
    "    - data.csv"
   ]
  },
  {
   "cell_type": "markdown",
   "id": "aaa10bb7-6351-4f2e-956a-5534f3ff7d5c",
   "metadata": {},
   "source": [
    "# Environment Validation\n",
    "\n",
    "This is a sample assignment notebook for validating that Otter works in your environment.\n",
    "\n",
    "To test your environment, run\n",
    "\n",
    "```console\n",
    "otter assign env-validation.ipynb dist -v\n",
    "```\n",
    "\n",
    "You should see a directory called `dist` created with the autograder and student subdirectories and a `data.csv` file in each. You should also see an autograder zip file in the autograder directory. You should also see in the output of the `otter assign` command that the tests were run on the notebook and they succeded."
   ]
  },
  {
   "cell_type": "code",
   "execution_count": 12,
   "id": "bede384b-e9e0-4f1d-af26-72ef88d4050c",
   "metadata": {},
   "outputs": [],
   "source": [
    "import pandas as pd\n",
    "import random"
   ]
  },
  {
   "cell_type": "raw",
   "id": "ba30bc8a-f164-43f5-b4af-d7464ba32552",
   "metadata": {},
   "source": [
    "# BEGIN QUESTION\n",
    "name: q1"
   ]
  },
  {
   "cell_type": "markdown",
   "id": "0c4d7206-31bd-4bd1-9010-fd566cf2550b",
   "metadata": {},
   "source": [
    "**Question 1:** Fill in the `hailstone` function below which returns the hailstone sequence of the number `n`."
   ]
  },
  {
   "cell_type": "raw",
   "id": "928a8462-72d2-492b-b2be-0baff302e516",
   "metadata": {},
   "source": [
    "# BEGIN SOLUTION"
   ]
  },
  {
   "cell_type": "code",
   "execution_count": 4,
   "id": "b081ee8d-f150-4cd4-9b22-132cd55fbd69",
   "metadata": {},
   "outputs": [
    {
     "data": {
      "text/plain": [
       "[7, 22, 11, 34, 17, 52, 26, 13, 40, 20, 10, 5, 16, 8, 4, 2, 1]"
      ]
     },
     "execution_count": 4,
     "metadata": {},
     "output_type": "execute_result"
    }
   ],
   "source": [
    "def hailstone(n):\n",
    "    # BEGIN SOLUTION\n",
    "    l = [n]\n",
    "    while n != 1:\n",
    "        if n % 2 == 0: n //= 2\n",
    "        else: n = 3 * n + 1\n",
    "        l.append(n)\n",
    "    return l\n",
    "    # END SOLUTION\n",
    "\n",
    "hailstone(7)"
   ]
  },
  {
   "cell_type": "raw",
   "id": "b9e0df94-8252-437c-8ac8-89a9739d371f",
   "metadata": {},
   "source": [
    "# END SOLUTION"
   ]
  },
  {
   "cell_type": "raw",
   "id": "bf1ad574-21a7-4acd-9f81-b18e919f37ac",
   "metadata": {},
   "source": [
    "# BEGIN TESTS"
   ]
  },
  {
   "cell_type": "code",
   "execution_count": 5,
   "id": "ea07c26e-e806-49ef-831a-611f471087e7",
   "metadata": {},
   "outputs": [],
   "source": [
    "assert hailstone(1) == [1]"
   ]
  },
  {
   "cell_type": "code",
   "execution_count": 6,
   "id": "62354d7e-dc81-49d7-9646-44e211dd72e7",
   "metadata": {},
   "outputs": [],
   "source": [
    "assert hailstone(2) == [2, 1]"
   ]
  },
  {
   "cell_type": "code",
   "execution_count": 7,
   "id": "c69edce9-0419-4cac-b559-a430df46c166",
   "metadata": {},
   "outputs": [],
   "source": [
    "assert hailstone(3) == [3, 10, 5, 16, 8, 4, 2, 1]"
   ]
  },
  {
   "cell_type": "code",
   "execution_count": 8,
   "id": "554818b8-9404-4957-8866-d4e8394c7848",
   "metadata": {},
   "outputs": [],
   "source": [
    "# HIDDEN\n",
    "assert hailstone(7) == [7, 22, 11, 34, 17, 52, 26, 13, 40, 20, 10, 5, 16, 8, 4, 2, 1]"
   ]
  },
  {
   "cell_type": "raw",
   "id": "078eb726-f746-4901-926a-5351d5a92dac",
   "metadata": {},
   "source": [
    "# END TESTS"
   ]
  },
  {
   "cell_type": "raw",
   "id": "6bd1fdea-e909-4899-af25-425147699806",
   "metadata": {},
   "source": [
    "# END QUESTION"
   ]
  },
  {
   "cell_type": "raw",
   "id": "bd2fe13c-2065-4cc1-a421-801149136985",
   "metadata": {},
   "source": [
    "# BEGIN QUESTION\n",
    "name: q2\n",
    "manual: true"
   ]
  },
  {
   "cell_type": "markdown",
   "id": "4ccbff13-6d4f-4fd1-b742-45bea8d45f8f",
   "metadata": {},
   "source": [
    "**Question 2.** Evaluate the integral:\n",
    "\n",
    "$$\n",
    "\\int x e^x \\, \\mathrm dx\n",
    "$$"
   ]
  },
  {
   "cell_type": "raw",
   "id": "fe93356b-b154-4003-891d-6fa50467105d",
   "metadata": {},
   "source": [
    "# BEGIN PROMPT"
   ]
  },
  {
   "cell_type": "markdown",
   "id": "d1fba788-5db2-4660-a01e-1b38cf759673",
   "metadata": {},
   "source": [
    "$$\n",
    "\\begin{aligned}\n",
    "\\int x e^x \\, \\mathrm dx &= \\texttt{YOUR MATH HERE} \\\\\n",
    "\\end{aligned}\n",
    "$$"
   ]
  },
  {
   "cell_type": "raw",
   "id": "890427d1-416d-4437-9f5e-719de6b3cebb",
   "metadata": {},
   "source": [
    "# END PROMPT"
   ]
  },
  {
   "cell_type": "raw",
   "id": "55abeba4-b4ab-4931-8bf2-f7e3013ce7df",
   "metadata": {},
   "source": [
    "# BEGIN SOLUTION"
   ]
  },
  {
   "cell_type": "markdown",
   "id": "23aacfd3-20b2-41e0-84d3-7e822285e939",
   "metadata": {},
   "source": [
    "$$\n",
    "\\begin{aligned}\n",
    "\\int x e^x \\, \\mathrm dx &= x e^x - \\int e^x \\, \\mathrm dx \\\\\n",
    "&= x e^x - e^x + C \\\\\n",
    "&= e^x (x - 1) + C \\\\\n",
    "\\end{aligned}\n",
    "$$"
   ]
  },
  {
   "cell_type": "raw",
   "id": "08e64470-808e-4ebf-af6c-429a2559b3dd",
   "metadata": {},
   "source": [
    "# END SOLUTION"
   ]
  },
  {
   "cell_type": "raw",
   "id": "1122717b-3210-4bfb-b5c6-aad389dcefb5",
   "metadata": {},
   "source": [
    "# END QUESTION"
   ]
  },
  {
   "cell_type": "raw",
   "id": "858bba22-66a2-4289-b0be-f3786fbce53b",
   "metadata": {},
   "source": [
    "# BEGIN QUESTION\n",
    "name: q3"
   ]
  },
  {
   "cell_type": "markdown",
   "id": "7361f277-e31f-4d26-990c-40edcb347006",
   "metadata": {},
   "source": [
    "**Question 3:** Load the data from `data.csv` and perform an A/B test to determine whether the population in condition `A` has a statistically significant difference in `val` rfom the population in condition `B`. "
   ]
  },
  {
   "cell_type": "raw",
   "id": "8ecf9a05-8823-4c24-b734-531ed020f3e7",
   "metadata": {},
   "source": [
    "# BEGIN SOLUTION"
   ]
  },
  {
   "cell_type": "code",
   "execution_count": 58,
   "id": "b1b7f0a0-08ed-4cd3-840c-f47f2000de04",
   "metadata": {},
   "outputs": [
    {
     "name": "stdout",
     "output_type": "stream",
     "text": [
      "A/B test p-value: 0.003\n"
     ]
    }
   ],
   "source": [
    "random.seed(42) # IGNORE\n",
    "df = pd.read_csv(\"data.csv\")\n",
    "\n",
    "def test_stat(df, cond_col):\n",
    "    \"\"\"\n",
    "    Calculate the test state on a dataframe. Assumes that the \n",
    "    \"\"\"\n",
    "    return abs(df[df[cond_col] == \"A\"][\"val\"].mean() - df[df[cond_col] == \"B\"][\"val\"].mean())\n",
    "\n",
    "observed = test_stat(df, \"cond\") # SOLUTION\n",
    "\n",
    "stats = []\n",
    "for _ in range(1000):\n",
    "    df[\"shuffled_cond\"] = random.sample(list(df[\"cond\"]), df.shape[0]) # SOLUTION\n",
    "    stats.append(test_stat(df, \"shuffled_cond\")) # SOLUTION\n",
    "\n",
    "p_value = sum(s >= observed for s in stats) / len(stats) # SOLUTION\n",
    "print(f\"A/B test p-value: {p_value}\")"
   ]
  },
  {
   "cell_type": "raw",
   "id": "b481c3e7-dbd6-4c3c-9a2f-e7506a07e5de",
   "metadata": {},
   "source": [
    "# END SOLUTION"
   ]
  },
  {
   "cell_type": "raw",
   "id": "d8abed55-acb2-4557-98ce-b1f417e380de",
   "metadata": {},
   "source": [
    "# BEGIN TESTS"
   ]
  },
  {
   "cell_type": "code",
   "execution_count": 59,
   "id": "20b4373a-11db-4d60-a37a-18a956dd46a8",
   "metadata": {},
   "outputs": [],
   "source": [
    "assert len(stats) == 1000"
   ]
  },
  {
   "cell_type": "code",
   "execution_count": 60,
   "id": "825789b5-ea48-4a42-a38a-c168e4f9ba0c",
   "metadata": {},
   "outputs": [],
   "source": [
    "assert 0 <= p_value <= 1"
   ]
  },
  {
   "cell_type": "code",
   "execution_count": 61,
   "id": "85e8c5f4-abcb-467c-894f-f4e51bcbcb4f",
   "metadata": {},
   "outputs": [],
   "source": [
    "# HIDDEN\n",
    "import math\n",
    "assert math.isclose(observed, 0.45037490465339625)"
   ]
  },
  {
   "cell_type": "code",
   "execution_count": 62,
   "id": "d5f3db09-a21b-4a26-b362-89d0fa520be3",
   "metadata": {},
   "outputs": [],
   "source": [
    "# HIDDEN\n",
    "import math\n",
    "assert math.isclose(p_value, .003)"
   ]
  },
  {
   "cell_type": "raw",
   "id": "2e79e57a-891e-4e59-98bd-0de29204abb6",
   "metadata": {},
   "source": [
    "# END TESTS"
   ]
  },
  {
   "cell_type": "raw",
   "id": "8f67764d-1993-4ced-8261-16ea806e4f13",
   "metadata": {},
   "source": [
    "# END QUESTION"
   ]
  }
 ],
 "metadata": {
  "kernelspec": {
   "display_name": "Python 3 (ipykernel)",
   "language": "python",
   "name": "python3"
  },
  "language_info": {
   "codemirror_mode": {
    "name": "ipython",
    "version": 3
   },
   "file_extension": ".py",
   "mimetype": "text/x-python",
   "name": "python",
   "nbconvert_exporter": "python",
   "pygments_lexer": "ipython3",
   "version": "3.10.12"
  }
 },
 "nbformat": 4,
 "nbformat_minor": 5
}
